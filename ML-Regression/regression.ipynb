{
 "cells": [
  {
   "cell_type": "markdown",
   "id": "08ef8503",
   "metadata": {},
   "source": [
    "Importing library"
   ]
  },
  {
   "cell_type": "code",
   "execution_count": 16,
   "id": "dba5c83b",
   "metadata": {},
   "outputs": [],
   "source": [
    "import numpy as np\n",
    "import pandas as pd\n",
    "import matplotlib.pyplot as plt\n",
    "from sklearn.preprocessing import StandardScaler,MinMaxScaler,LabelEncoder\n",
    "from sklearn.metrics import mean_absolute_error,mean_absolute_percentage_error,mean_squared_error,r2_score,root_mean_squared_error,confusion_matrix,ConfusionMatrixDisplay,accuracy_score,classification_report\n",
    "from sklearn.model_selection import train_test_split\n",
    "from sklearn.linear_model import LogisticRegression,LinearRegression\n",
    "from sklearn.cluster import KMeans,DBSCAN\n",
    "from sklearn.tree import DecisionTreeClassifier,DecisionTreeRegressor\n",
    "from sklearn.ensemble import RandomForestClassifier\n",
    "import seaborn as sns"
   ]
  },
  {
   "cell_type": "code",
   "execution_count": 2,
   "id": "666be715",
   "metadata": {},
   "outputs": [],
   "source": [
    "df = pd.read_csv(\"../data/house_price_regression_dataset.csv\",sep=\",\")\n",
    "df = df.drop(2)"
   ]
  },
  {
   "cell_type": "code",
   "execution_count": 30,
   "id": "7cb0e88e",
   "metadata": {},
   "outputs": [
    {
     "data": {
      "application/vnd.microsoft.datawrangler.viewer.v0+json": {
       "columns": [
        {
         "name": "index",
         "rawType": "int64",
         "type": "integer"
        },
        {
         "name": "Square_Footage",
         "rawType": "int64",
         "type": "integer"
        },
        {
         "name": "Num_Bedrooms",
         "rawType": "int64",
         "type": "integer"
        },
        {
         "name": "Num_Bathrooms",
         "rawType": "int64",
         "type": "integer"
        },
        {
         "name": "Year_Built",
         "rawType": "int64",
         "type": "integer"
        },
        {
         "name": "Lot_Size",
         "rawType": "float64",
         "type": "float"
        },
        {
         "name": "Garage_Size",
         "rawType": "int64",
         "type": "integer"
        },
        {
         "name": "Neighborhood_Quality",
         "rawType": "int64",
         "type": "integer"
        },
        {
         "name": "House_Price",
         "rawType": "float64",
         "type": "float"
        }
       ],
       "ref": "4b42d00d-f487-4e8a-b363-368147b64120",
       "rows": [
        [
         "0",
         "1360",
         "2",
         "1",
         "1981",
         "0.5996366396268326",
         "0",
         "5",
         "262382.8522740563"
        ],
        [
         "1",
         "4272",
         "3",
         "3",
         "2016",
         "4.75301384940204",
         "1",
         "6",
         "985260.854490162"
        ],
        [
         "3",
         "966",
         "1",
         "2",
         "1977",
         "2.73066687604351",
         "1",
         "8",
         "229698.9186636115"
        ],
        [
         "4",
         "4926",
         "2",
         "1",
         "1993",
         "4.699072554837388",
         "0",
         "8",
         "1041740.8589249004"
        ],
        [
         "5",
         "3944",
         "5",
         "3",
         "1990",
         "2.475930043628728",
         "2",
         "8",
         "879796.9835223783"
        ],
        [
         "6",
         "3671",
         "1",
         "2",
         "2012",
         "4.911960066216673",
         "0",
         "1",
         "814427.8614089885"
        ],
        [
         "7",
         "3419",
         "1",
         "1",
         "1972",
         "2.805281407595683",
         "1",
         "1",
         "703413.1109446795"
        ],
        [
         "8",
         "630",
         "3",
         "3",
         "1997",
         "1.0142859649909075",
         "1",
         "8",
         "173875.03721558454"
        ],
        [
         "9",
         "2185",
         "4",
         "2",
         "1981",
         "3.9416043760667474",
         "2",
         "5",
         "504176.5060593679"
        ],
        [
         "10",
         "1269",
         "2",
         "2",
         "2006",
         "3.5550397628502823",
         "1",
         "9",
         "335332.59275293903"
        ],
        [
         "11",
         "2891",
         "2",
         "3",
         "1982",
         "3.9784402458751407",
         "0",
         "2",
         "635097.3959198"
        ],
        [
         "12",
         "2933",
         "5",
         "3",
         "1973",
         "4.781489129265565",
         "2",
         "9",
         "701133.8041471172"
        ],
        [
         "13",
         "1684",
         "5",
         "3",
         "1988",
         "3.994201861929581",
         "1",
         "8",
         "440726.2848162878"
        ],
        [
         "14",
         "3885",
         "2",
         "3",
         "1983",
         "3.251014709974911",
         "1",
         "9",
         "838719.430503504"
        ],
        [
         "15",
         "4617",
         "5",
         "1",
         "2005",
         "4.3578900606237845",
         "0",
         "4",
         "1019192.6613592046"
        ],
        [
         "16",
         "3404",
         "3",
         "3",
         "1977",
         "3.529608977095392",
         "0",
         "1",
         "735850.8123421574"
        ],
        [
         "17",
         "974",
         "2",
         "2",
         "1986",
         "2.336535755716654",
         "2",
         "1",
         "234261.64997473892"
        ],
        [
         "18",
         "1582",
         "5",
         "2",
         "1956",
         "4.48528893908798",
         "1",
         "5",
         "396246.3588887452"
        ],
        [
         "19",
         "3058",
         "2",
         "1",
         "2017",
         "1.498552073529678",
         "0",
         "2",
         "672852.0519810001"
        ],
        [
         "20",
         "2547",
         "4",
         "2",
         "1986",
         "3.715885737089259",
         "2",
         "8",
         "586086.5685389101"
        ],
        [
         "21",
         "3247",
         "1",
         "2",
         "2005",
         "4.467035547233406",
         "1",
         "10",
         "740174.0146550778"
        ],
        [
         "22",
         "1475",
         "2",
         "3",
         "2014",
         "3.790924338664833",
         "1",
         "5",
         "370167.09090271546"
        ],
        [
         "23",
         "2306",
         "1",
         "2",
         "2014",
         "3.637739385742356",
         "2",
         "5",
         "530824.1967752124"
        ],
        [
         "24",
         "689",
         "5",
         "1",
         "1996",
         "3.8868723233232623",
         "2",
         "2",
         "227515.3002879812"
        ],
        [
         "25",
         "3234",
         "1",
         "3",
         "1969",
         "2.5927486173529",
         "0",
         "7",
         "652166.1423658864"
        ],
        [
         "26",
         "3505",
         "2",
         "3",
         "1968",
         "4.433768069706617",
         "1",
         "8",
         "745670.6371477235"
        ],
        [
         "27",
         "2399",
         "4",
         "1",
         "1978",
         "1.4154641381124105",
         "1",
         "10",
         "513161.95119306416"
        ],
        [
         "28",
         "1767",
         "5",
         "3",
         "2009",
         "1.073238872001527",
         "1",
         "1",
         "432357.9061027443"
        ],
        [
         "29",
         "2028",
         "2",
         "3",
         "1967",
         "1.784789510533302",
         "2",
         "2",
         "434165.8966340506"
        ],
        [
         "30",
         "3702",
         "5",
         "1",
         "1984",
         "2.892098285487469",
         "0",
         "10",
         "809686.201143527"
        ],
        [
         "31",
         "4056",
         "3",
         "3",
         "1992",
         "2.7975280793420216",
         "1",
         "4",
         "883819.0911218557"
        ],
        [
         "32",
         "4390",
         "1",
         "1",
         "1960",
         "4.19269440954464",
         "2",
         "5",
         "912468.0479046734"
        ],
        [
         "33",
         "1146",
         "3",
         "1",
         "1998",
         "2.3205589538180784",
         "1",
         "2",
         "281313.0614448485"
        ],
        [
         "34",
         "3388",
         "2",
         "2",
         "1987",
         "2.679549918311789",
         "0",
         "1",
         "705923.3148916194"
        ],
        [
         "35",
         "2935",
         "4",
         "2",
         "2013",
         "0.5601545746672804",
         "1",
         "9",
         "656980.4604282172"
        ],
        [
         "36",
         "1100",
         "5",
         "3",
         "2018",
         "2.343826563993226",
         "0",
         "1",
         "318266.2771320871"
        ],
        [
         "37",
         "2863",
         "1",
         "3",
         "1957",
         "3.4149840482765392",
         "0",
         "4",
         "582468.7977365239"
        ],
        [
         "38",
         "2561",
         "5",
         "1",
         "1983",
         "0.5697874878196648",
         "1",
         "2",
         "541967.633559251"
        ],
        [
         "39",
         "741",
         "2",
         "3",
         "1997",
         "1.763968843338097",
         "1",
         "4",
         "188531.42345710637"
        ],
        [
         "40",
         "2541",
         "5",
         "1",
         "2005",
         "1.4358036168022548",
         "0",
         "8",
         "565562.7504321395"
        ],
        [
         "41",
         "3324",
         "1",
         "1",
         "2014",
         "0.688934430093147",
         "2",
         "8",
         "697574.5556670319"
        ],
        [
         "42",
         "3112",
         "2",
         "3",
         "1980",
         "2.6566704046154186",
         "0",
         "9",
         "666733.4734616925"
        ],
        [
         "43",
         "1863",
         "5",
         "1",
         "1953",
         "1.317754819526704",
         "1",
         "5",
         "376388.0216286443"
        ],
        [
         "44",
         "1978",
         "4",
         "2",
         "1999",
         "3.8438669283412095",
         "1",
         "7",
         "485380.95019563066"
        ],
        [
         "45",
         "3056",
         "2",
         "3",
         "2018",
         "4.315675476935068",
         "2",
         "3",
         "735678.4622017285"
        ],
        [
         "46",
         "1275",
         "2",
         "2",
         "1979",
         "2.9551333220111653",
         "0",
         "10",
         "296291.0010075069"
        ],
        [
         "47",
         "4514",
         "4",
         "3",
         "2008",
         "4.917683041345137",
         "0",
         "4",
         "1046315.8960136625"
        ],
        [
         "48",
         "534",
         "3",
         "1",
         "2016",
         "2.527153571617679",
         "0",
         "10",
         "187508.58531168045"
        ],
        [
         "49",
         "3652",
         "1",
         "3",
         "1994",
         "2.81015694601212",
         "1",
         "9",
         "793995.2848757812"
        ],
        [
         "50",
         "2455",
         "3",
         "2",
         "1953",
         "4.951479892809876",
         "0",
         "10",
         "527393.5128875901"
        ]
       ],
       "shape": {
        "columns": 8,
        "rows": 999
       }
      },
      "text/html": [
       "<div>\n",
       "<style scoped>\n",
       "    .dataframe tbody tr th:only-of-type {\n",
       "        vertical-align: middle;\n",
       "    }\n",
       "\n",
       "    .dataframe tbody tr th {\n",
       "        vertical-align: top;\n",
       "    }\n",
       "\n",
       "    .dataframe thead th {\n",
       "        text-align: right;\n",
       "    }\n",
       "</style>\n",
       "<table border=\"1\" class=\"dataframe\">\n",
       "  <thead>\n",
       "    <tr style=\"text-align: right;\">\n",
       "      <th></th>\n",
       "      <th>Square_Footage</th>\n",
       "      <th>Num_Bedrooms</th>\n",
       "      <th>Num_Bathrooms</th>\n",
       "      <th>Year_Built</th>\n",
       "      <th>Lot_Size</th>\n",
       "      <th>Garage_Size</th>\n",
       "      <th>Neighborhood_Quality</th>\n",
       "      <th>House_Price</th>\n",
       "    </tr>\n",
       "  </thead>\n",
       "  <tbody>\n",
       "    <tr>\n",
       "      <th>0</th>\n",
       "      <td>1360</td>\n",
       "      <td>2</td>\n",
       "      <td>1</td>\n",
       "      <td>1981</td>\n",
       "      <td>0.599637</td>\n",
       "      <td>0</td>\n",
       "      <td>5</td>\n",
       "      <td>2.623829e+05</td>\n",
       "    </tr>\n",
       "    <tr>\n",
       "      <th>1</th>\n",
       "      <td>4272</td>\n",
       "      <td>3</td>\n",
       "      <td>3</td>\n",
       "      <td>2016</td>\n",
       "      <td>4.753014</td>\n",
       "      <td>1</td>\n",
       "      <td>6</td>\n",
       "      <td>9.852609e+05</td>\n",
       "    </tr>\n",
       "    <tr>\n",
       "      <th>3</th>\n",
       "      <td>966</td>\n",
       "      <td>1</td>\n",
       "      <td>2</td>\n",
       "      <td>1977</td>\n",
       "      <td>2.730667</td>\n",
       "      <td>1</td>\n",
       "      <td>8</td>\n",
       "      <td>2.296989e+05</td>\n",
       "    </tr>\n",
       "    <tr>\n",
       "      <th>4</th>\n",
       "      <td>4926</td>\n",
       "      <td>2</td>\n",
       "      <td>1</td>\n",
       "      <td>1993</td>\n",
       "      <td>4.699073</td>\n",
       "      <td>0</td>\n",
       "      <td>8</td>\n",
       "      <td>1.041741e+06</td>\n",
       "    </tr>\n",
       "    <tr>\n",
       "      <th>5</th>\n",
       "      <td>3944</td>\n",
       "      <td>5</td>\n",
       "      <td>3</td>\n",
       "      <td>1990</td>\n",
       "      <td>2.475930</td>\n",
       "      <td>2</td>\n",
       "      <td>8</td>\n",
       "      <td>8.797970e+05</td>\n",
       "    </tr>\n",
       "    <tr>\n",
       "      <th>...</th>\n",
       "      <td>...</td>\n",
       "      <td>...</td>\n",
       "      <td>...</td>\n",
       "      <td>...</td>\n",
       "      <td>...</td>\n",
       "      <td>...</td>\n",
       "      <td>...</td>\n",
       "      <td>...</td>\n",
       "    </tr>\n",
       "    <tr>\n",
       "      <th>995</th>\n",
       "      <td>3261</td>\n",
       "      <td>4</td>\n",
       "      <td>1</td>\n",
       "      <td>1978</td>\n",
       "      <td>2.165110</td>\n",
       "      <td>2</td>\n",
       "      <td>10</td>\n",
       "      <td>7.014940e+05</td>\n",
       "    </tr>\n",
       "    <tr>\n",
       "      <th>996</th>\n",
       "      <td>3179</td>\n",
       "      <td>1</td>\n",
       "      <td>2</td>\n",
       "      <td>1999</td>\n",
       "      <td>2.977123</td>\n",
       "      <td>1</td>\n",
       "      <td>10</td>\n",
       "      <td>6.837232e+05</td>\n",
       "    </tr>\n",
       "    <tr>\n",
       "      <th>997</th>\n",
       "      <td>2606</td>\n",
       "      <td>4</td>\n",
       "      <td>2</td>\n",
       "      <td>1962</td>\n",
       "      <td>4.055067</td>\n",
       "      <td>0</td>\n",
       "      <td>2</td>\n",
       "      <td>5.720240e+05</td>\n",
       "    </tr>\n",
       "    <tr>\n",
       "      <th>998</th>\n",
       "      <td>4723</td>\n",
       "      <td>5</td>\n",
       "      <td>2</td>\n",
       "      <td>1950</td>\n",
       "      <td>1.930921</td>\n",
       "      <td>0</td>\n",
       "      <td>7</td>\n",
       "      <td>9.648653e+05</td>\n",
       "    </tr>\n",
       "    <tr>\n",
       "      <th>999</th>\n",
       "      <td>3268</td>\n",
       "      <td>4</td>\n",
       "      <td>2</td>\n",
       "      <td>1983</td>\n",
       "      <td>3.108790</td>\n",
       "      <td>2</td>\n",
       "      <td>2</td>\n",
       "      <td>7.425993e+05</td>\n",
       "    </tr>\n",
       "  </tbody>\n",
       "</table>\n",
       "<p>999 rows × 8 columns</p>\n",
       "</div>"
      ],
      "text/plain": [
       "     Square_Footage  Num_Bedrooms  Num_Bathrooms  Year_Built  Lot_Size  \\\n",
       "0              1360             2              1        1981  0.599637   \n",
       "1              4272             3              3        2016  4.753014   \n",
       "3               966             1              2        1977  2.730667   \n",
       "4              4926             2              1        1993  4.699073   \n",
       "5              3944             5              3        1990  2.475930   \n",
       "..              ...           ...            ...         ...       ...   \n",
       "995            3261             4              1        1978  2.165110   \n",
       "996            3179             1              2        1999  2.977123   \n",
       "997            2606             4              2        1962  4.055067   \n",
       "998            4723             5              2        1950  1.930921   \n",
       "999            3268             4              2        1983  3.108790   \n",
       "\n",
       "     Garage_Size  Neighborhood_Quality   House_Price  \n",
       "0              0                     5  2.623829e+05  \n",
       "1              1                     6  9.852609e+05  \n",
       "3              1                     8  2.296989e+05  \n",
       "4              0                     8  1.041741e+06  \n",
       "5              2                     8  8.797970e+05  \n",
       "..           ...                   ...           ...  \n",
       "995            2                    10  7.014940e+05  \n",
       "996            1                    10  6.837232e+05  \n",
       "997            0                     2  5.720240e+05  \n",
       "998            0                     7  9.648653e+05  \n",
       "999            2                     2  7.425993e+05  \n",
       "\n",
       "[999 rows x 8 columns]"
      ]
     },
     "execution_count": 30,
     "metadata": {},
     "output_type": "execute_result"
    }
   ],
   "source": [
    "df"
   ]
  },
  {
   "cell_type": "code",
   "execution_count": 31,
   "id": "efceb952",
   "metadata": {},
   "outputs": [
    {
     "name": "stdout",
     "output_type": "stream",
     "text": [
      "<class 'pandas.core.frame.DataFrame'>\n",
      "Index: 999 entries, 0 to 999\n",
      "Data columns (total 8 columns):\n",
      " #   Column                Non-Null Count  Dtype  \n",
      "---  ------                --------------  -----  \n",
      " 0   Square_Footage        999 non-null    int64  \n",
      " 1   Num_Bedrooms          999 non-null    int64  \n",
      " 2   Num_Bathrooms         999 non-null    int64  \n",
      " 3   Year_Built            999 non-null    int64  \n",
      " 4   Lot_Size              999 non-null    float64\n",
      " 5   Garage_Size           999 non-null    int64  \n",
      " 6   Neighborhood_Quality  999 non-null    int64  \n",
      " 7   House_Price           999 non-null    float64\n",
      "dtypes: float64(2), int64(6)\n",
      "memory usage: 70.2 KB\n"
     ]
    }
   ],
   "source": [
    "df.info()"
   ]
  },
  {
   "cell_type": "code",
   "execution_count": 32,
   "id": "d4869aa6",
   "metadata": {},
   "outputs": [
    {
     "data": {
      "application/vnd.microsoft.datawrangler.viewer.v0+json": {
       "columns": [
        {
         "name": "index",
         "rawType": "object",
         "type": "string"
        },
        {
         "name": "Square_Footage",
         "rawType": "float64",
         "type": "float"
        },
        {
         "name": "Num_Bedrooms",
         "rawType": "float64",
         "type": "float"
        },
        {
         "name": "Num_Bathrooms",
         "rawType": "float64",
         "type": "float"
        },
        {
         "name": "Year_Built",
         "rawType": "float64",
         "type": "float"
        },
        {
         "name": "Lot_Size",
         "rawType": "float64",
         "type": "float"
        },
        {
         "name": "Garage_Size",
         "rawType": "float64",
         "type": "float"
        },
        {
         "name": "Neighborhood_Quality",
         "rawType": "float64",
         "type": "float"
        },
        {
         "name": "House_Price",
         "rawType": "float64",
         "type": "float"
        }
       ],
       "ref": "5ae0eee6-f3e0-411a-b9b3-a9d0e6413e33",
       "rows": [
        [
         "count",
         "999.0",
         "999.0",
         "999.0",
         "999.0",
         "999.0",
         "999.0",
         "999.0",
         "999.0"
        ],
        [
         "mean",
         "2814.644644644645",
         "2.991991991991992",
         "1.972972972972973",
         "1986.5205205205204",
         "2.777229834507051",
         "1.023023023023023",
         "5.611611611611612",
         "618701.7429996496"
        ],
        [
         "std",
         "1255.902984095415",
         "1.426887504970036",
         "0.8207420455178545",
         "20.622169553262243",
         "1.2982697341100484",
         "0.8147380355695184",
         "2.8865150690396355",
         "253645.01116402022"
        ],
        [
         "min",
         "503.0",
         "1.0",
         "1.0",
         "1950.0",
         "0.5060582193045366",
         "0.0",
         "1.0",
         "111626.85342361582"
        ],
        [
         "25%",
         "1749.0",
         "2.0",
         "1.0",
         "1969.0",
         "1.6646436959210518",
         "0.0",
         "3.0",
         "401293.9733911855"
        ],
        [
         "50%",
         "2862.0",
         "3.0",
         "2.0",
         "1986.0",
         "2.8093238769055047",
         "1.0",
         "6.0",
         "627923.6171994702"
        ],
        [
         "75%",
         "3851.0",
         "4.0",
         "3.0",
         "2004.0",
         "3.9247254227663024",
         "2.0",
         "8.0",
         "827142.1105584586"
        ],
        [
         "max",
         "4999.0",
         "5.0",
         "3.0",
         "2022.0",
         "4.989302700131234",
         "2.0",
         "10.0",
         "1108236.8362913695"
        ]
       ],
       "shape": {
        "columns": 8,
        "rows": 8
       }
      },
      "text/html": [
       "<div>\n",
       "<style scoped>\n",
       "    .dataframe tbody tr th:only-of-type {\n",
       "        vertical-align: middle;\n",
       "    }\n",
       "\n",
       "    .dataframe tbody tr th {\n",
       "        vertical-align: top;\n",
       "    }\n",
       "\n",
       "    .dataframe thead th {\n",
       "        text-align: right;\n",
       "    }\n",
       "</style>\n",
       "<table border=\"1\" class=\"dataframe\">\n",
       "  <thead>\n",
       "    <tr style=\"text-align: right;\">\n",
       "      <th></th>\n",
       "      <th>Square_Footage</th>\n",
       "      <th>Num_Bedrooms</th>\n",
       "      <th>Num_Bathrooms</th>\n",
       "      <th>Year_Built</th>\n",
       "      <th>Lot_Size</th>\n",
       "      <th>Garage_Size</th>\n",
       "      <th>Neighborhood_Quality</th>\n",
       "      <th>House_Price</th>\n",
       "    </tr>\n",
       "  </thead>\n",
       "  <tbody>\n",
       "    <tr>\n",
       "      <th>count</th>\n",
       "      <td>999.000000</td>\n",
       "      <td>999.000000</td>\n",
       "      <td>999.000000</td>\n",
       "      <td>999.000000</td>\n",
       "      <td>999.000000</td>\n",
       "      <td>999.000000</td>\n",
       "      <td>999.000000</td>\n",
       "      <td>9.990000e+02</td>\n",
       "    </tr>\n",
       "    <tr>\n",
       "      <th>mean</th>\n",
       "      <td>2814.644645</td>\n",
       "      <td>2.991992</td>\n",
       "      <td>1.972973</td>\n",
       "      <td>1986.520521</td>\n",
       "      <td>2.777230</td>\n",
       "      <td>1.023023</td>\n",
       "      <td>5.611612</td>\n",
       "      <td>6.187017e+05</td>\n",
       "    </tr>\n",
       "    <tr>\n",
       "      <th>std</th>\n",
       "      <td>1255.902984</td>\n",
       "      <td>1.426888</td>\n",
       "      <td>0.820742</td>\n",
       "      <td>20.622170</td>\n",
       "      <td>1.298270</td>\n",
       "      <td>0.814738</td>\n",
       "      <td>2.886515</td>\n",
       "      <td>2.536450e+05</td>\n",
       "    </tr>\n",
       "    <tr>\n",
       "      <th>min</th>\n",
       "      <td>503.000000</td>\n",
       "      <td>1.000000</td>\n",
       "      <td>1.000000</td>\n",
       "      <td>1950.000000</td>\n",
       "      <td>0.506058</td>\n",
       "      <td>0.000000</td>\n",
       "      <td>1.000000</td>\n",
       "      <td>1.116269e+05</td>\n",
       "    </tr>\n",
       "    <tr>\n",
       "      <th>25%</th>\n",
       "      <td>1749.000000</td>\n",
       "      <td>2.000000</td>\n",
       "      <td>1.000000</td>\n",
       "      <td>1969.000000</td>\n",
       "      <td>1.664644</td>\n",
       "      <td>0.000000</td>\n",
       "      <td>3.000000</td>\n",
       "      <td>4.012940e+05</td>\n",
       "    </tr>\n",
       "    <tr>\n",
       "      <th>50%</th>\n",
       "      <td>2862.000000</td>\n",
       "      <td>3.000000</td>\n",
       "      <td>2.000000</td>\n",
       "      <td>1986.000000</td>\n",
       "      <td>2.809324</td>\n",
       "      <td>1.000000</td>\n",
       "      <td>6.000000</td>\n",
       "      <td>6.279236e+05</td>\n",
       "    </tr>\n",
       "    <tr>\n",
       "      <th>75%</th>\n",
       "      <td>3851.000000</td>\n",
       "      <td>4.000000</td>\n",
       "      <td>3.000000</td>\n",
       "      <td>2004.000000</td>\n",
       "      <td>3.924725</td>\n",
       "      <td>2.000000</td>\n",
       "      <td>8.000000</td>\n",
       "      <td>8.271421e+05</td>\n",
       "    </tr>\n",
       "    <tr>\n",
       "      <th>max</th>\n",
       "      <td>4999.000000</td>\n",
       "      <td>5.000000</td>\n",
       "      <td>3.000000</td>\n",
       "      <td>2022.000000</td>\n",
       "      <td>4.989303</td>\n",
       "      <td>2.000000</td>\n",
       "      <td>10.000000</td>\n",
       "      <td>1.108237e+06</td>\n",
       "    </tr>\n",
       "  </tbody>\n",
       "</table>\n",
       "</div>"
      ],
      "text/plain": [
       "       Square_Footage  Num_Bedrooms  Num_Bathrooms   Year_Built    Lot_Size  \\\n",
       "count      999.000000    999.000000     999.000000   999.000000  999.000000   \n",
       "mean      2814.644645      2.991992       1.972973  1986.520521    2.777230   \n",
       "std       1255.902984      1.426888       0.820742    20.622170    1.298270   \n",
       "min        503.000000      1.000000       1.000000  1950.000000    0.506058   \n",
       "25%       1749.000000      2.000000       1.000000  1969.000000    1.664644   \n",
       "50%       2862.000000      3.000000       2.000000  1986.000000    2.809324   \n",
       "75%       3851.000000      4.000000       3.000000  2004.000000    3.924725   \n",
       "max       4999.000000      5.000000       3.000000  2022.000000    4.989303   \n",
       "\n",
       "       Garage_Size  Neighborhood_Quality   House_Price  \n",
       "count   999.000000            999.000000  9.990000e+02  \n",
       "mean      1.023023              5.611612  6.187017e+05  \n",
       "std       0.814738              2.886515  2.536450e+05  \n",
       "min       0.000000              1.000000  1.116269e+05  \n",
       "25%       0.000000              3.000000  4.012940e+05  \n",
       "50%       1.000000              6.000000  6.279236e+05  \n",
       "75%       2.000000              8.000000  8.271421e+05  \n",
       "max       2.000000             10.000000  1.108237e+06  "
      ]
     },
     "execution_count": 32,
     "metadata": {},
     "output_type": "execute_result"
    }
   ],
   "source": [
    "df.describe()"
   ]
  },
  {
   "cell_type": "code",
   "execution_count": 33,
   "id": "fe0f0b75",
   "metadata": {},
   "outputs": [
    {
     "data": {
      "application/vnd.microsoft.datawrangler.viewer.v0+json": {
       "columns": [
        {
         "name": "index",
         "rawType": "object",
         "type": "string"
        },
        {
         "name": "0",
         "rawType": "int64",
         "type": "integer"
        }
       ],
       "ref": "985b5e34-2a20-4685-8985-93d05fe7580b",
       "rows": [
        [
         "Square_Footage",
         "0"
        ],
        [
         "Num_Bedrooms",
         "0"
        ],
        [
         "Num_Bathrooms",
         "0"
        ],
        [
         "Year_Built",
         "0"
        ],
        [
         "Lot_Size",
         "0"
        ],
        [
         "Garage_Size",
         "0"
        ],
        [
         "Neighborhood_Quality",
         "0"
        ],
        [
         "House_Price",
         "0"
        ]
       ],
       "shape": {
        "columns": 1,
        "rows": 8
       }
      },
      "text/plain": [
       "Square_Footage          0\n",
       "Num_Bedrooms            0\n",
       "Num_Bathrooms           0\n",
       "Year_Built              0\n",
       "Lot_Size                0\n",
       "Garage_Size             0\n",
       "Neighborhood_Quality    0\n",
       "House_Price             0\n",
       "dtype: int64"
      ]
     },
     "execution_count": 33,
     "metadata": {},
     "output_type": "execute_result"
    }
   ],
   "source": [
    "df.isnull().sum()"
   ]
  },
  {
   "cell_type": "code",
   "execution_count": 34,
   "id": "6b1b5d3f",
   "metadata": {},
   "outputs": [],
   "source": [
    "assert df.isnull().sum().all() == 0, \"Dataset have nullavble values\""
   ]
  },
  {
   "cell_type": "code",
   "execution_count": 3,
   "id": "3795a76f",
   "metadata": {},
   "outputs": [],
   "source": [
    "X = df.drop('House_Price',axis=1)\n",
    "y = df[\"House_Price\"]"
   ]
  },
  {
   "cell_type": "code",
   "execution_count": 6,
   "id": "c36587f4",
   "metadata": {},
   "outputs": [],
   "source": [
    "X_train, X_test,y_train,y_test = train_test_split(X,y,test_size=0.2,random_state=42)"
   ]
  },
  {
   "cell_type": "code",
   "execution_count": 37,
   "id": "911a6291",
   "metadata": {},
   "outputs": [
    {
     "data": {
      "image/png": "[encoded data removed]",
      "text/plain": [
       "<Figure size 1000x800 with 2 Axes>"
      ]
     },
     "metadata": {},
     "output_type": "display_data"
    }
   ],
   "source": [
    "plt.figure(figsize=(10,8))\n",
    "sns.heatmap(df.corr(),cmap='coolwarm',annot=True)\n",
    "plt.show()"
   ]
  },
  {
   "cell_type": "code",
   "execution_count": 15,
   "id": "438b8984",
   "metadata": {},
   "outputs": [],
   "source": [
    "scaler = StandardScaler()\n",
    "X_train = scaler.fit_transform(X_train)\n",
    "X_test = scaler.transform(X_test)"
   ]
  },
  {
   "cell_type": "code",
   "execution_count": null,
   "id": "a33e8ae2",
   "metadata": {},
   "outputs": [
    {
     "name": "stdout",
     "output_type": "stream",
     "text": [
      "MSE - 89272986.06406902\n",
      "R2 Score - 0.9986253545059945\n"
     ]
    }
   ],
   "source": [
    "model = LinearRegression()\n",
    "\n",
    "model.fit(X_train,y_train)\n",
    "y_pred = model.predict(X_test)\n",
    "mse = mean_squared_error(y_test,y_pred)\n",
    "r2 = r2_score(y_test,y_pred)\n",
    "\n",
    "print(f'MSE - {mse}')\n",
    "print(f'R2 Score - {r2}')"
   ]
  },
  {
   "cell_type": "code",
   "execution_count": 19,
   "id": "9f58d661",
   "metadata": {},
   "outputs": [
    {
     "data": {
      "image/png": "[encoded data removed]",
      "text/plain": [
       "<Figure size 640x480 with 1 Axes>"
      ]
     },
     "metadata": {},
     "output_type": "display_data"
    }
   ],
   "source": [
    "plt.scatter(y_test, y_pred, color='blue', edgecolor='k', alpha=0.7)\n",
    "plt.plot([y_test.min(), y_test.max()], [y_test.min(), y_test.max()], color='red', lw=2)\n",
    "plt.xlabel(\"Actual House Price\")\n",
    "plt.ylabel(\"Predicted House Price\")\n",
    "plt.title(\"Actual vs Predicted\")\n",
    "plt.grid(True)\n",
    "plt.show()\n"
   ]
  },
  {
   "cell_type": "code",
   "execution_count": null,
   "id": "a34cf129",
   "metadata": {},
   "outputs": [],
   "source": []
  }
 ],
 "metadata": {
  "kernelspec": {
   "display_name": "env",
   "language": "python",
   "name": "python3"
  },
  "language_info": {
   "codemirror_mode": {
    "name": "ipython",
    "version": 3
   },
   "file_extension": ".py",
   "mimetype": "text/x-python",
   "name": "python",
   "nbconvert_exporter": "python",
   "pygments_lexer": "ipython3",
   "version": "3.12.4"
  }
 },
 "nbformat": 4,
 "nbformat_minor": 5
}
